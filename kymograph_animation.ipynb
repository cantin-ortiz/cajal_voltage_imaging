{
 "cells": [
  {
   "cell_type": "markdown",
   "id": "b1f9f6f6-893b-4f0e-951e-f367208eb7b2",
   "metadata": {},
   "source": [
    "# Imports"
   ]
  },
  {
   "cell_type": "code",
   "execution_count": 21,
   "id": "b9b99ba7-f5e6-4ae6-aeb4-9d9f0d479302",
   "metadata": {},
   "outputs": [],
   "source": [
    "import sys\n",
    "import os\n",
    "import matplotlib.pyplot as plt\n",
    "from matplotlib.backends.backend_pdf import PdfPages\n",
    "import numpy as np\n",
    "import requests as rs\n",
    "import pandas as pd\n",
    "from scipy.io import loadmat\n",
    "from scipy.stats import zscore\n",
    "from scipy.signal import spectrogram\n",
    "from scipy.signal import periodogram\n",
    "from scipy.signal import iirnotch\n",
    "from scipy.signal import find_peaks\n",
    "from scipy.signal import welch\n",
    "from voltage_imaging import *\n",
    "import random\n",
    "import shutil"
   ]
  },
  {
   "cell_type": "markdown",
   "id": "5ce229cf-c69b-4fee-9fa1-efe588a6b767",
   "metadata": {},
   "source": [
    "# Functions"
   ]
  },
  {
   "cell_type": "markdown",
   "id": "60b48a7e-ac53-4529-89e3-d31e7560fc28",
   "metadata": {},
   "source": [
    "# Loading file"
   ]
  },
  {
   "cell_type": "code",
   "execution_count": 2,
   "id": "04fbc227-939d-4520-8f4e-32ec993ce6ae",
   "metadata": {},
   "outputs": [],
   "source": [
    "meta = loadMeta()\n",
    "dict_data = dict()\n",
    "for fname in meta['File'].unique():\n",
    "    path = os.path.join('..', 'data', fname.split('_')[0], fname + '.mes')\n",
    "    dict_data[fname] = loadmat(path, squeeze_me = True)"
   ]
  },
  {
   "cell_type": "markdown",
   "id": "3f87305a-6c09-4f7f-8e11-37659fc21168",
   "metadata": {},
   "source": [
    "# Plotting all recordings"
   ]
  },
  {
   "cell_type": "markdown",
   "id": "105847cb-2556-4a85-aee9-dccd1f42b8cc",
   "metadata": {},
   "source": [
    "## Selecting recordings to display"
   ]
  },
  {
   "cell_type": "code",
   "execution_count": 3,
   "id": "861298ea-3bed-46ad-9e6f-345cd656de77",
   "metadata": {},
   "outputs": [],
   "source": [
    "meta_plot = meta"
   ]
  },
  {
   "cell_type": "markdown",
   "id": "565b3cb3-2fed-4569-ba60-0a4ec9f8cbaf",
   "metadata": {},
   "source": [
    "## Plotting cell body and kymograph"
   ]
  },
  {
   "cell_type": "markdown",
   "id": "a5a6f216-753c-4815-bdd7-a88c3a56853d",
   "metadata": {},
   "source": [
    "### Raw"
   ]
  },
  {
   "cell_type": "markdown",
   "id": "8b4d31ea-2785-4893-9102-b38accb9120b",
   "metadata": {},
   "source": [
    "To render a movie, install ffmpeg and run a command similar to:\n",
    "ffmpeg -r 30 -f image2 -s 1300x1000 -i frame%05d.png -vcodec libx264 -crf 20 -pix_fmt yuv420p kymograph.mp4"
   ]
  },
  {
   "cell_type": "code",
   "execution_count": 19,
   "id": "98e23920-02b0-473e-95fa-1effac36b35a",
   "metadata": {},
   "outputs": [],
   "source": [
    "random.seed(42)\n",
    "my_dpi = 300\n",
    "\n",
    "meta_plot = meta.query('(File == \"20211125_M_C_1\") & (Measure_ID == 5)')\n",
    "\n",
    "show = True\n",
    "dir_images = 'kymograph_frames_V2'\n",
    "os.makedirs(dir_images, exist_ok = True)\n",
    "\n",
    "nrow = 1\n",
    "ncol = 2\n",
    "framerate = 30\n",
    "frame_count = 0\n",
    "cur_row = 0\n",
    "    \n",
    "#Looping through experiments\n",
    "for cnt,r in meta_plot.iterrows():\n",
    "\n",
    "    cur_mat= getRecordingData(dict_data, r)\n",
    "    \n",
    "    # for cur_row in range(0,cur_mat.shape[1]):\n",
    "    while cur_row < cur_mat.shape[1]:\n",
    "        \n",
    "        if cur_row == 0:\n",
    "            circle_duration = 10\n",
    "        elif cur_row <= 10:\n",
    "            circle_duration = 1\n",
    "        else:\n",
    "            circle_duration = 0.1\n",
    "        \n",
    "        angle_list = np.linspace(-np.pi, +np.pi, num = int(framerate*circle_duration), endpoint = False)\n",
    "        if circle_duration == 0.1:\n",
    "            angle_list += random.random() * np.pi/3\n",
    "        \n",
    "        if cur_row > 50:\n",
    "            angle_list = list([random.random() * np.pi * 2])\n",
    "            \n",
    "        if cur_row > 100:\n",
    "            cur_row += 3\n",
    "            if cur_row >= cur_mat.shape[1]:\n",
    "                cur_row = cur_mat.shape[1] - 1\n",
    "        \n",
    "        for i,angle in enumerate(angle_list):\n",
    "            cursor_figure = 1\n",
    "            # plt.figure(figsize = (10, 7))\n",
    "            plt.figure(figsize=(1300/my_dpi, 1000/my_dpi), dpi=my_dpi)\n",
    "            plt.subplot(nrow, ncol, cursor_figure)\n",
    "            mat_plot = cur_mat.T\n",
    "            mat_plot = np.log(mat_plot)\n",
    "            mat_plot[cur_row, int(i / len(angle_list) * mat_plot.shape[1]):] = np.nan\n",
    "            mat_plot[cur_row+1:,:] = np.nan\n",
    "            ax = plt.imshow(mat_plot, vmin = 5, vmax = 6.5, aspect = 'auto')\n",
    "            plt.ylim(cur_row + 1, -0.5,)\n",
    "            plt.xticks([])\n",
    "            plt.yticks([])\n",
    "            plt.gca().axis('off')\n",
    "            cursor_figure += 1        \n",
    "\n",
    "            plt.subplot(nrow, ncol, cursor_figure)\n",
    "            xcircle = 220\n",
    "            ycircle = 272\n",
    "            window = 90\n",
    "            radius = 25\n",
    "            overview = getRecordingData(dict_data, r, True)\n",
    "            ax = plt.imshow(np.log(overview), cmap = 'Greys_r', vmax = 4.9, vmin = 4.75)\n",
    "            plt.gca().axis('off')\n",
    "            circle = plt.Circle((220, 272), radius, color='r', fill = None, linewidth = 3)\n",
    "            plt.scatter(xcircle + radius*np.cos(angle), ycircle + radius*np.sin(angle), c = 'cyan', zorder = 100, s = 100)\n",
    "            plt.gca().add_patch(circle)\n",
    "            plt.xlim(xcircle - window, xcircle + window)\n",
    "            plt.ylim(ycircle - window, ycircle + window)\n",
    "            \n",
    "            time = 2*cur_row + (i/len(angle_list)) * 2\n",
    "            if cur_row == cur_mat.shape[1] - 1:\n",
    "                time = 3000\n",
    "                \n",
    "            unit = 'ms'\n",
    "            if time < 4:\n",
    "                time *= 1000\n",
    "                unit = 'µs'\n",
    "                \n",
    "            plt.suptitle('Time = ' + str(int(time)) + ' ' + unit, fontsize = 20)\n",
    "            plt.savefig(dir_images + '/frame' + format(frame_count, '05d'))\n",
    "            plt.close()\n",
    "            frame_count += 1\n",
    "            \n",
    "        cur_row += 1"
   ]
  },
  {
   "cell_type": "code",
   "execution_count": 24,
   "id": "af7c38f9-0fea-4d80-80ce-d2ca39b82341",
   "metadata": {},
   "outputs": [],
   "source": [
    "last_frame = dir_images + '/frame' + format(frame_count-1, '05d') + '.png'\n",
    "duration_last_image = 5\n",
    "n_frames = duration_last_image * framerate\n",
    "for cur_frame in range(frame_count, frame_count+1+n_frames):\n",
    "    new_frame = dir_images + '/frame' + format(cur_frame, '05d') + '.png'\n",
    "    shutil.copyfile(last_frame, new_frame)"
   ]
  },
  {
   "cell_type": "code",
   "execution_count": null,
   "id": "3a871975-2f65-4520-a1e7-feb1cf2876f1",
   "metadata": {},
   "outputs": [],
   "source": []
  }
 ],
 "metadata": {
  "kernelspec": {
   "display_name": "Python 3 (ipykernel)",
   "language": "python",
   "name": "python3"
  },
  "language_info": {
   "codemirror_mode": {
    "name": "ipython",
    "version": 3
   },
   "file_extension": ".py",
   "mimetype": "text/x-python",
   "name": "python",
   "nbconvert_exporter": "python",
   "pygments_lexer": "ipython3",
   "version": "3.9.7"
  }
 },
 "nbformat": 4,
 "nbformat_minor": 5
}
